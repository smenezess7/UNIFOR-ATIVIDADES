{
  "nbformat": 4,
  "nbformat_minor": 0,
  "metadata": {
    "colab": {
      "provenance": []
    },
    "kernelspec": {
      "name": "python3",
      "display_name": "Python 3"
    },
    "language_info": {
      "name": "python"
    }
  },
  "cells": [
    {
      "cell_type": "markdown",
      "source": [
        "<img src=\"https://drive.google.com/uc?id=1SOzRTjUt7cuBJpSqoK90fcAiKBrnpUJo\" width=\"400\">\n",
        "\n",
        "**Data:** 06/04/2024 <br>\n",
        "**Aluno(a):** Samuel Menezes Ribeiro De Moraes <br>\n",
        "**Matrícula:** 2417687 <br>"
      ],
      "metadata": {
        "id": "-ETbUDvAnKzn"
      }
    },
    {
      "cell_type": "markdown",
      "source": [
        "# Avaliação Formativa 1"
      ],
      "metadata": {
        "id": "KxkAj07uoLoI"
      }
    },
    {
      "cell_type": "markdown",
      "source": [
        "## Normas e exigências\n",
        "- **Data de entrega**: 09/04/2024\n",
        "- **Pontuação total**: 02 pontos"
      ],
      "metadata": {
        "id": "v9wsJ_PJo0rG"
      }
    },
    {
      "cell_type": "markdown",
      "source": [
        "## Observações\n",
        "- É considerada uma questão válida àquela que, **limitada aos conhecimentos aprendidos em sala de aula**, resultar em saída de dados correta para toda e qualquer instância do problema."
      ],
      "metadata": {
        "id": "uX0TGd9do_gv"
      }
    },
    {
      "cell_type": "markdown",
      "source": [
        "## Questão 1 (1 ponto)\n",
        "\n",
        "Implemente em Python, um algoritmo para determinar se um número inteiro e positivo é par ou impar."
      ],
      "metadata": {
        "id": "1azAQN9xpD9h"
      }
    },
    {
      "cell_type": "markdown",
      "source": [
        "#### Pseudocódigo\n",
        "```java\n",
        "ALGORTIMO verifica_par_ímpar\n",
        "DECLARE numero, resto: INTEIRO\n",
        "\n",
        "INICIO\n",
        "\n",
        "    ESCREVA \"Digite um número: \"\n",
        "    LEIA numero    \n",
        "    SE numero >= 0 ENTAO\n",
        "        resto <- numero % 2\n",
        "        SE resto == 0 ENTAO\n",
        "            ESCREVA \"O número é par!\"\n",
        "        SENAO\n",
        "          ESCREVA \"O número é impar!\"\n",
        "        FIM_SE\n",
        "    SENAO             \n",
        "        ESCREVA \"O número deve ser postivo!\"\n",
        "    FIM_SE\n",
        "    \n",
        "FIM\n",
        "```"
      ],
      "metadata": {
        "id": "-NLb_UGppIIo"
      }
    },
    {
      "cell_type": "markdown",
      "source": [
        "### Implementação em Python"
      ],
      "metadata": {
        "id": "iYaLaFlRpUTp"
      }
    },
    {
      "cell_type": "code",
      "source": [
        "num = int(input(\"Escreva um número inteiro e positivo \"))\n",
        "if num < 0:\n",
        "    print(\"O número deve ser positivo.\")\n",
        "else:\n",
        "    if 0 != num % 2:\n",
        "        print(\"O número é ímpar.\")\n",
        "    else:\n",
        "        print(\"O número é par.\")"
      ],
      "metadata": {
        "colab": {
          "base_uri": "https://localhost:8080/"
        },
        "id": "DCi2zdl9pe8U",
        "outputId": "7db470b0-e578-4930-b40d-16bb14138ad8"
      },
      "execution_count": 2,
      "outputs": [
        {
          "output_type": "stream",
          "name": "stdout",
          "text": [
            "Escreva um número inteiro e positivo 5\n",
            "O número é ímpar.\n"
          ]
        }
      ]
    },
    {
      "cell_type": "markdown",
      "source": [
        "## Questão 2 (1 ponto)\n",
        "\n",
        "Implemente em Python, um algoritmo para calcular o novo salário de um funcionário. Sabe-se que os funcionários que recebem atualmente salário de até R$ 500 terão aumento de 20%; os demais terão aumento de 10%."
      ],
      "metadata": {
        "id": "8We7gn5apocf"
      }
    },
    {
      "cell_type": "markdown",
      "source": [
        "```java\n",
        "ALGORTIMO ReajusteSalario\n",
        "DECLARE sal_atual, sal_reaj: REAL\n",
        "\n",
        "INICIO\n",
        "\n",
        "    ESCREVA \"Digite seu salário atual:\"\n",
        "    LEIA sal_atual\n",
        "    SE sal_atual <= 500 ENTAO\n",
        "        sal_reaj = sal_atual * 1.2\n",
        "    SENAO\n",
        "        sal_reaj = sal_atual * 1.1\n",
        "    FIM_SE\n",
        "    ESCREVA \"O novo salário é R$\", sal_reaj\n",
        "\n",
        "FIM\n",
        "```"
      ],
      "metadata": {
        "id": "pviwiyQmpzII"
      }
    },
    {
      "cell_type": "code",
      "source": [
        "sal = float(input(\"Escreva o salário atual \"))\n",
        "if sal <= 0:\n",
        "    print(\"O salário deve ser positivo.\")\n",
        "else:\n",
        "    if sal > 500:\n",
        "        novo_sal = sal * 1.1\n",
        "        print(\"O novo salário é\", novo_sal)\n",
        "    else:\n",
        "        novo_sal = sal * 1.2\n",
        "        print(\"O novo salário é\", novo_sal)"
      ],
      "metadata": {
        "colab": {
          "base_uri": "https://localhost:8080/"
        },
        "id": "oqumoRdDp6nz",
        "outputId": "39074dc4-282b-4115-ebba-8c19270f797f"
      },
      "execution_count": 3,
      "outputs": [
        {
          "output_type": "stream",
          "name": "stdout",
          "text": [
            "Escreva o salário atual 500\n",
            "O novo salário é 600.0\n"
          ]
        }
      ]
    },
    {
      "cell_type": "markdown",
      "source": [
        "## Questão 3 (1 ponto)\n",
        "\n",
        "Implemente em Python, um algoritmo para calcular a média aritmética entre duas notas de um aluno e mostrar sua situação, que pode ser aprovado ou reprovado."
      ],
      "metadata": {
        "id": "VuP3_cOgqG2B"
      }
    },
    {
      "cell_type": "markdown",
      "source": [
        "### Pseudocódigo (1 ponto)\n",
        "\n",
        "```java\n",
        "ALGORTIMO SituacaoAluno\n",
        "DECLARE nota1, nota2, media: REAL\n",
        "\n",
        "INICIO\n",
        "\n",
        "    ESCREVA \"Digite a nota 1:\"\n",
        "    LEIA nota1\n",
        "    ESCREVA \"Digite a nota 2:\"\n",
        "    LEIA nota2\n",
        "    SE nota1 >= 0 E nota2 >= 0 ENTAO\n",
        "        media =  (nota1 + nota2)/2\n",
        "        SE media >= 7 ENTAO\n",
        "            ESCREVA \"O aluno está aprovado!\"\n",
        "        SENAO\n",
        "            \"O aluno está reprovado!\"\n",
        "        FIM_SE\n",
        "    SENAO\n",
        "        ESCREVA \"A nota deve ser maior que zero!\"\n",
        "    FIM_SE\n",
        "\n",
        "FIM\n",
        "```"
      ],
      "metadata": {
        "id": "WmuVANm9qIaK"
      }
    },
    {
      "cell_type": "code",
      "source": [
        "nota1 = float(input(\"Escreva a primeira nota \"))\n",
        "nota2 = float(input(\"Escreva a segunda nota \"))\n",
        "media = (float(nota1) + float(nota2)) / 2\n",
        "if nota1 >=0 and nota2 >=0:\n",
        "    if media >= 7:\n",
        "        print(\"O aluno está aprovado.\")\n",
        "    else:\n",
        "        print(\"O aluno está reprovado.\")\n",
        "else:\n",
        "    print(\"As notas devem ser não-negativas.\")\n"
      ],
      "metadata": {
        "colab": {
          "base_uri": "https://localhost:8080/"
        },
        "id": "jngXdZWrqL9P",
        "outputId": "37529aec-cca5-4cbe-cf5f-100db778f32f"
      },
      "execution_count": 4,
      "outputs": [
        {
          "output_type": "stream",
          "name": "stdout",
          "text": [
            "Escreva a primeira nota 6\n",
            "Escreva a segunda nota 8\n",
            "O aluno está aprovado.\n"
          ]
        }
      ]
    },
    {
      "cell_type": "markdown",
      "source": [
        "## Questão 4 (1 ponto)\n",
        "\n",
        "Implemente em Python, um algoritmo que, a partir da idade do candidato(a), determinar se pode ou não tirar a CNH. Caso não atender a restrição de idade, calcular quantos anos faltam para o candidato estar apto."
      ],
      "metadata": {
        "id": "fyWjhmRjqVcw"
      }
    },
    {
      "cell_type": "markdown",
      "source": [
        "### Pseudocódigo (1 ponto)\n",
        "\n",
        "```java\n",
        "ALGORTIMO AptoCNH\n",
        "DECLARE idade, anos_apto: INTEIRO\n",
        "\n",
        "INICIO\n",
        "\n",
        "    ESCREVA \"\"Digite a sua idade:\"\n",
        "    LEIA idade\n",
        "\n",
        "    SE idade < 0 ENTAO\n",
        "        ESCREVA \"A idade deve ser maior que zero!\"\n",
        "    SENAO\n",
        "        SE idade >= 18 ENTAO\n",
        "            ESCREVA \"O candidato está apto a tirar a CNH!\"\n",
        "        SENAO\n",
        "            anos_apto <- 18 - idade\n",
        "            ESCREVA \"Faltam\", anos_apto, \"ano(s) para o candidato estar apto!\"\n",
        "        FIM_SE\n",
        "    FIM_SE\n",
        "\n",
        "FIM\n",
        "```\n"
      ],
      "metadata": {
        "id": "LBxeH1vcqZ_Z"
      }
    },
    {
      "cell_type": "code",
      "source": [
        "idade = int(input(\"Escreva a sua idade \"))\n",
        "if idade < 0:\n",
        "    print(\"A idade deve ser não-negativa.\")\n",
        "else:\n",
        "    if idade >= 18:\n",
        "        print(\"O candidato está apto a tirar a CNH.\")\n",
        "    else:\n",
        "        anos = int(18 - idade)\n",
        "        print(\"Faltam\", anos, \"anos para o canditado estar apto a tirar a CNH.\")"
      ],
      "metadata": {
        "colab": {
          "base_uri": "https://localhost:8080/"
        },
        "id": "D5Slvo7GqfAp",
        "outputId": "2a3cc44f-c666-408e-febf-599141253b8f"
      },
      "execution_count": 5,
      "outputs": [
        {
          "output_type": "stream",
          "name": "stdout",
          "text": [
            "Escreva a sua idade 19\n",
            "O candidato está apto a tirar a CNH.\n"
          ]
        }
      ]
    },
    {
      "cell_type": "markdown",
      "source": [],
      "metadata": {
        "id": "WWPZYwKRpqqW"
      }
    }
  ]
}