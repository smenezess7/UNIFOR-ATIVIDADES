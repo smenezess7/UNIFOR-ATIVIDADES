{
  "nbformat": 4,
  "nbformat_minor": 0,
  "metadata": {
    "colab": {
      "provenance": []
    },
    "kernelspec": {
      "name": "python3",
      "display_name": "Python 3"
    },
    "language_info": {
      "name": "python"
    }
  },
  "cells": [
    {
      "cell_type": "markdown",
      "source": [
        "<img src=\"https://drive.google.com/uc?id=1SOzRTjUt7cuBJpSqoK90fcAiKBrnpUJo\" width=\"400\">\n",
        "\n",
        "**Data:** 18/04/2024 <br>\n",
        "**Aluno(a):** Samuel Menezes Ribeiro De Moraes <br>\n",
        "**Matrícula:** 2417687 <br>"
      ],
      "metadata": {
        "id": "02Dckeirosf4"
      }
    },
    {
      "cell_type": "markdown",
      "source": [
        "# Avaliação Formativa 2"
      ],
      "metadata": {
        "id": "hRuWQ6-9spAd"
      }
    },
    {
      "cell_type": "markdown",
      "source": [
        "## Normas e exigências\n",
        "- **Data de entrega**: 19/04/2024\n",
        "- **Pontuação total**: 02 pontos"
      ],
      "metadata": {
        "id": "wr6cLXl2rbiR"
      }
    },
    {
      "cell_type": "markdown",
      "source": [
        "## Observações\n",
        "- É considerada uma questão válida àquela que, **limitada aos conhecimentos aprendidos em sala de aula**, resultar em saída de dados correta para toda e qualquer instância do problema."
      ],
      "metadata": {
        "id": "5tdmhcu-uFfP"
      }
    },
    {
      "cell_type": "markdown",
      "source": [
        "## Questão 1\n",
        "\n",
        "Calcule a média de quatro números inteiros dados."
      ],
      "metadata": {
        "id": "t8Twlj5KpIRQ"
      }
    },
    {
      "cell_type": "markdown",
      "source": [
        "#### Pseudocódigo\n",
        "```java\n",
        "ALGORTIMO Media\n",
        "DECLARE num1, num2, num3, num4: REAL\n",
        "\n",
        "INICIO\n",
        "\n",
        "    ESCREVA \"Digite o número 1:\"\n",
        "    LEIA num1\n",
        "    ESCREVA \"Digite o número 2:\"\n",
        "    LEIA num2\n",
        "    ESCREVA \"Digite o número 3:\"\n",
        "    LEIA num3\n",
        "    ESCREVA \"Digite o número 4:\"\n",
        "    LEIA num4\n",
        "    media <- (num1 + num2 + num3 + num4)/4\n",
        "    ESCREVA \"A média é\", media\n",
        "\n",
        "FIM\n",
        "```"
      ],
      "metadata": {
        "id": "VzBmx5v-pbwQ"
      }
    },
    {
      "cell_type": "markdown",
      "source": [
        "### Implementação em Python"
      ],
      "metadata": {
        "id": "yY3w23Depv_Q"
      }
    },
    {
      "cell_type": "code",
      "execution_count": 12,
      "metadata": {
        "id": "wcx1XRMcooxN"
      },
      "outputs": [],
      "source": [
        "def soma_numerica():\n",
        "    \"\"\"\n",
        "    Escreva os quatro números para obter a média\n",
        "    \"\"\"\n",
        "\n",
        "    print(\"Digite aqui o número: \")\n",
        "    num1 = float(input(\"Número 1: \"))\n",
        "    print(\"Digite aqui o número: \")\n",
        "    num2 = float(input(\"Número 2: \"))\n",
        "    print(\"Digite aqui o número: \")\n",
        "    num3 = float(input(\"Número 3: \"))\n",
        "    print(\"Digite aqui o número: \")\n",
        "    num4 = float(input(\"Número 4: \"))\n",
        "\n",
        "    media = (num1 + num2 + num3 + num4) / 4\n",
        "\n",
        "    print(\"A média é\", media)"
      ]
    },
    {
      "cell_type": "code",
      "source": [
        "soma_numerica()"
      ],
      "metadata": {
        "colab": {
          "base_uri": "https://localhost:8080/"
        },
        "id": "mZ5L6vkxg7mF",
        "outputId": "4e97b85a-d852-40b0-be57-b9833f6615f6"
      },
      "execution_count": 15,
      "outputs": [
        {
          "output_type": "stream",
          "name": "stdout",
          "text": [
            "Digite aqui o número: \n",
            "Número 1: 7\n",
            "Digite aqui o número: \n",
            "Número 2: 8\n",
            "Digite aqui o número: \n",
            "Número 3: 3\n",
            "Digite aqui o número: \n",
            "Número 4: 4\n",
            "A média é 5.5\n"
          ]
        }
      ]
    },
    {
      "cell_type": "markdown",
      "source": [
        "## Questão 2\n",
        "\n",
        "Leia uma temperatura dada em Celsius (C) e imprima o equivalente em Fahrenheit (F). (Fórmula de conversão: F = (9/5) * C + 32)"
      ],
      "metadata": {
        "id": "JrvUbf2rp2ib"
      }
    },
    {
      "cell_type": "markdown",
      "source": [
        "#### Pseudocódigo\n",
        "```java\n",
        "ALGORTIMO ConverteCelsiusFarenheit\n",
        "DECLARE C, F: REAL\n",
        "\n",
        "INICIO\n",
        "\n",
        "    ESCREVA \"Digite a temperatura em Celisus:\"\n",
        "    LEIA C\n",
        "    F <- (9/5) * C + 32\n",
        "    ESCREVA \"A temperatura em Fahrenheit é\", F, \"graus\"\n",
        "\n",
        "FIM\n",
        "```"
      ],
      "metadata": {
        "id": "jG1apE67qIV6"
      }
    },
    {
      "cell_type": "markdown",
      "source": [
        "### Implementação em Python"
      ],
      "metadata": {
        "id": "F3cW-iBjqOwq"
      }
    },
    {
      "cell_type": "code",
      "source": [
        "def celsius_f():\n",
        "    \"\"\"\n",
        "    Escreva o C para obter o F\n",
        "    \"\"\"\n",
        "\n",
        "    print(\"Escreva a tempetura em C:\")\n",
        "    celsius = float(input())\n",
        "    Fahrenheit = (9/5) * celsius + 32\n",
        "    print(\"A temperatura em Fahrenheit é\", Fahrenheit, \"graus\")\n",
        "\n",
        "\n"
      ],
      "metadata": {
        "id": "U4_Pjn5FqFC6"
      },
      "execution_count": 27,
      "outputs": []
    },
    {
      "cell_type": "code",
      "source": [
        "celsius_f()"
      ],
      "metadata": {
        "colab": {
          "base_uri": "https://localhost:8080/"
        },
        "id": "CefHQpS8ktC0",
        "outputId": "515712b8-f374-4842-e63a-c8752e876a59"
      },
      "execution_count": 28,
      "outputs": [
        {
          "output_type": "stream",
          "name": "stdout",
          "text": [
            "Escreva a tempetura em C:\n",
            "27\n",
            "A temperatura em Fahrenheit é 80.6 graus\n"
          ]
        }
      ]
    },
    {
      "cell_type": "markdown",
      "source": [
        "## Questão 3\n",
        "\n",
        "Receba dois números reais e um operador e efetue a operação correspondente com os valores recebidos (operandos).<br>\n",
        "O algoritmo deve retornar o resultado da operação selecionada simulando todas as operações de uma calculadora simples."
      ],
      "metadata": {
        "id": "0g5uU29qqPn7"
      }
    },
    {
      "cell_type": "markdown",
      "source": [
        "### Pseudocódigo (1 ponto)\n",
        "\n",
        "```java\n",
        "ALGORITMO CalculadoraSimples\n",
        "DECLARE op: INTEIRO; num1,num2,res: REAL\n",
        "\n",
        "INICIO\n",
        "\n",
        "    ESCREVA \"Operações válidas: 1(soma), 2(subtração), 3(multiplicação) e 4(divisão)\"\n",
        "    ESCREVA \"Digite uma operação:\"\n",
        "    LEIA op\n",
        "    ESCREVA \"Digite um número:\"\n",
        "    LEIA num1\n",
        "    ESCREVA \"Digite outro número:\"\n",
        "    LEIA num2\n",
        "    ESCOLHA\n",
        "        CASO op == 1\n",
        "            res = num1 + num2\n",
        "            ESCREVA num1, \"+\", num2, \"=\", res\n",
        "        CASO op == 2\n",
        "            res = num1 - num2\n",
        "            ESCREVA num1, \"-\", num2, \"=\", res\n",
        "        CASO op == 3\n",
        "            res = num1 * num2\n",
        "            ESCREVA num1, \"*\", num2, \"=\", res\n",
        "        CASO op == 4\n",
        "            SE num2 != 0 ENTAO\n",
        "                res = num1 / num2\n",
        "                ESCREVA num1, \"/\", num2, \"=\", res\n",
        "            SENAO\n",
        "                ESCREVA \"Impossível dividir!\"\n",
        "            FIM_SE\n",
        "    SENAO\n",
        "        ESCREVA \"Operação inválida!\"\n",
        "    FIM_ESCOLHA\n",
        "\n",
        "FIM\n",
        "```"
      ],
      "metadata": {
        "id": "foi7LlFfqkuM"
      }
    },
    {
      "cell_type": "markdown",
      "source": [
        "### Implementação em Python"
      ],
      "metadata": {
        "id": "BN3vCBYfqiHr"
      }
    },
    {
      "cell_type": "code",
      "source": [
        "def calculadora():\n",
        "    \"\"\"\n",
        "    Uma calculadora simples\n",
        "    \"\"\"\n",
        "\n",
        "    op = input(\"Operações válidas: 1(soma), 2(subtração), 3(multiplicação) e 4(divisão)\\nDigite uma operação: \")\n",
        "    num1 = float(input(\"Digite um número: \"))\n",
        "    num2 = float(input(\"Digite outro número: \"))\n",
        "\n",
        "    if op == '1':\n",
        "            res = num1 + num2\n",
        "            print(num1, \"+\", num2, \"=\", res)\n",
        "    elif op == '2':\n",
        "            res = num1 - num2\n",
        "            print(num1, \"-\", num2, \"=\", res)\n",
        "    elif op == '3':\n",
        "            res = num1 * num2\n",
        "            print(num1, \"*\", num2, \"=\", res)\n",
        "    elif op == '4':\n",
        "                if num2 != 0:\n",
        "                    res = num1 / num2\n",
        "                print(num1, \"/\", num2, \"=\", res)\n",
        "    else:\n",
        "                print(\"Operação inexistente\")"
      ],
      "metadata": {
        "id": "PO8nF8H7qedh"
      },
      "execution_count": 109,
      "outputs": []
    },
    {
      "cell_type": "code",
      "source": [
        "calculadora()"
      ],
      "metadata": {
        "colab": {
          "base_uri": "https://localhost:8080/"
        },
        "id": "Jt-nKoDHqbWt",
        "outputId": "03d27bad-313a-4b11-b951-2910cc3e9e89"
      },
      "execution_count": 108,
      "outputs": [
        {
          "output_type": "stream",
          "name": "stdout",
          "text": [
            "Operações válidas: 1(soma), 2(subtração), 3(multiplicação) e 4(divisão)\n",
            "Digite uma operação: 7\n",
            "Digite um número: 4\n",
            "Digite outro número: 4\n",
            "Operação inexistente\n"
          ]
        }
      ]
    },
    {
      "cell_type": "markdown",
      "source": [
        "## Questão 4 (1 ponto)\n",
        "\n",
        "Elaborar um algoritmo que, dada a idade, classifique nas categorias: infantil A (5 - 7 anos), infantil B (8 -10 anos), juvenil A (11 - 13 anos), juvenil B (14 -17 anos) e adulto (maiores que 18 anos)."
      ],
      "metadata": {
        "id": "ANbTtYNSqpbD"
      }
    },
    {
      "cell_type": "markdown",
      "source": [
        "### Pseudocódigo (1 ponto)\n",
        "\n",
        "```java\n",
        "ALGORTIMO ClassificaCategoria\n",
        "DECLARE idade: INTEIRO\n",
        "\n",
        "INICIO\n",
        "\n",
        "    ESCREVA \"Digite a idade do aluno:\"\n",
        "    LEIA idade\n",
        "    ESCOLHA\n",
        "        CASO idade >=5 E idade <= 7\n",
        "            ESCREVA \"Infantial A\"\n",
        "        CASO idade >=8 E idade <= 10\n",
        "            ESCREVA \"Infantial B\"\n",
        "        CASO idade >=11 E idade <= 13\n",
        "            ESCREVA \"Juvenil A\"\n",
        "        CASO idade >=14 E idade <= 17\n",
        "            ESCREVA \"Juvenil B\"\n",
        "        CASO idade >=18\n",
        "            ESCREVA \"Adulto\"\n",
        "    SENAO\n",
        "        ESCREVA \"Digite uma idade válida!\"\n",
        "    FIM_ESCOLHA\n",
        "\n",
        "FIM\n",
        "```"
      ],
      "metadata": {
        "id": "AktZRyv4q2JN"
      }
    },
    {
      "cell_type": "markdown",
      "source": [
        "### Implementação em Python"
      ],
      "metadata": {
        "id": "UxriZEhPq9CE"
      }
    },
    {
      "cell_type": "code",
      "source": [
        "def classificar_categoria():\n",
        "    \"\"\"\n",
        "    Declarar categorias baseado nas idades.\n",
        "    \"\"\"\n",
        "\n",
        "    idade = int(input(\"Digite a idade aqui: \"))\n",
        "    if idade >= 5 and idade <=7:\n",
        "        print(\"Está na categoria: Infantil A.\")\n",
        "    elif idade >= 8 and idade <=10:\n",
        "        print(\"Está na categoria: Infantil B.\")\n",
        "    elif idade >= 11 and idade <=13:\n",
        "        print(\"Está na categoria: Juvenil A.\")\n",
        "    elif idade >= 14 and idade <=17:\n",
        "        print(\"Está na categoria: Juvenil B.\")\n",
        "    elif idade >= 18:\n",
        "        print(\"Está na categoria: Adulto.\")"
      ],
      "metadata": {
        "id": "dArqpPvwquuk"
      },
      "execution_count": 118,
      "outputs": []
    },
    {
      "cell_type": "code",
      "source": [
        "classificar_categoria()"
      ],
      "metadata": {
        "colab": {
          "base_uri": "https://localhost:8080/"
        },
        "id": "RspXlvRevPKp",
        "outputId": "d2ddc0d1-bd95-486b-e3fb-2c261aef758d"
      },
      "execution_count": 119,
      "outputs": [
        {
          "output_type": "stream",
          "name": "stdout",
          "text": [
            "Digite a idade aqui: 18\n",
            "Está na categoria: Adulto.\n"
          ]
        }
      ]
    }
  ]
}